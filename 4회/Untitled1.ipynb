{
 "cells": [
  {
   "cell_type": "code",
   "execution_count": null,
   "metadata": {},
   "outputs": [
    {
     "name": "stdout",
     "output_type": "stream",
     "text": [
      "아이디 : 주희\n",
      "비밀번호 : 1234\n",
      "로그인 성공\n",
      "아이디 : ㅎ\n",
      "비밀번호 : 33\n",
      "로그인 실패\n"
     ]
    }
   ],
   "source": [
    "while True:\n",
    "    id = input('아이디 : ')\n",
    "    password=input('비밀번호 : ')\n",
    "    \n",
    "    if(id=='주희') and (password=='1234'):\n",
    "        print('로그인 성공')\n",
    "        continue\n",
    "    elif id== '종료' :\n",
    "        break\n",
    "    else:\n",
    "        print(\"로그인 실패\")"
   ]
  },
  {
   "cell_type": "code",
   "execution_count": 6,
   "metadata": {},
   "outputs": [
    {
     "name": "stdout",
     "output_type": "stream",
     "text": [
      "  2  4  6  8 10 12 14 16 18 20\n",
      "  3  6  9 12 15 18 21 24 27 30\n",
      "  4  8 12 16 20 24 28 32 36 40\n",
      "  5 10 15 20 25 30 35 40 45 50\n",
      "  6 12 18 24 30 36 42 48 54 60\n",
      "  7 14 21 28 35 42 49 56 63 70\n",
      "  8 16 24 32 40 48 56 64 72 80\n",
      "  9 18 27 36 45 54 63 72 81 90\n"
     ]
    }
   ],
   "source": [
    "dan=2\n",
    "while dan<=9:\n",
    "    n=1\n",
    "    while n<=10:\n",
    "        value=dan*n\n",
    "        print('%3d' %value,end='')\n",
    "        n+=1\n",
    "    print()\n",
    "    dan+=1"
   ]
  },
  {
   "cell_type": "code",
   "execution_count": 18,
   "metadata": {},
   "outputs": [
    {
     "name": "stdout",
     "output_type": "stream",
     "text": [
      "근무 시간을 입력하시오 : 2\n",
      "시간당 수당을 입력하시오 : 9\n",
      "\n",
      "총 급여는 18 원 입니다.\n"
     ]
    }
   ],
   "source": [
    "time=int(input(\"근무 시간을 입력하시오 : \"))\n",
    "money=int(input(\"시간당 수당을 입력하시오 : \"))\n",
    "one_total=time*money\n",
    "if time>12:\n",
    "    two_total=(time-12)*money*0.3\n",
    "    one_total=one_total+two_total\n",
    "  \n",
    "print()\n",
    "print(\"총 급여는 %d 원 입니다.\" %one_total)\n"
   ]
  },
  {
   "cell_type": "markdown",
   "metadata": {},
   "source": [
    "number=int(input(\"정수를 입력하시오 : ))\n",
    "print()\n",
    "\n",
    "a=1\n",
    "count=0\n"
   ]
  }
 ],
 "metadata": {
  "kernelspec": {
   "display_name": "Python 3",
   "language": "python",
   "name": "python3"
  },
  "language_info": {
   "codemirror_mode": {
    "name": "ipython",
    "version": 3
   },
   "file_extension": ".py",
   "mimetype": "text/x-python",
   "name": "python",
   "nbconvert_exporter": "python",
   "pygments_lexer": "ipython3",
   "version": "3.6.3"
  }
 },
 "nbformat": 4,
 "nbformat_minor": 2
}
