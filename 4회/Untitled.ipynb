{
 "cells": [
  {
   "cell_type": "code",
   "execution_count": 1,
   "metadata": {},
   "outputs": [
    {
     "name": "stdout",
     "output_type": "stream",
     "text": [
      "1\n",
      "2\n",
      "3\n",
      "4\n",
      "5\n"
     ]
    }
   ],
   "source": [
    "a=1\n",
    "while a<=5:\n",
    "    print(a)\n",
    "    a+=1"
   ]
  },
  {
   "cell_type": "code",
   "execution_count": 21,
   "metadata": {},
   "outputs": [
    {
     "name": "stdout",
     "output_type": "stream",
     "text": [
      "sum : 3950582671\n"
     ]
    }
   ],
   "source": [
    "a = 10\n",
    "sum = 0\n",
    "while a <= 88888 :\n",
    "    sum += a\n",
    "    a +=1\n",
    "print(\"sum :\", sum)"
   ]
  },
  {
   "cell_type": "code",
   "execution_count": null,
   "metadata": {},
   "outputs": [],
   "source": [
    "while True:\n",
    "    num = int(input('번호를 입력하세요. (종료 시 1번 입력)'))\n",
    "    print('프로그램이 실행 중')\n",
    "    \n",
    "    if num ==1:\n",
    "        print(\"1번 입력하셨습니다. 프로그램 종료합니다.\")\n",
    "        break"
   ]
  },
  {
   "cell_type": "code",
   "execution_count": null,
   "metadata": {
    "collapsed": true
   },
   "outputs": [],
   "source": [
    "while True:\n",
    "    id = input('아이디 : ')\n",
    "    password=input('비밀번호 : ')\n",
    "    \n",
    "    if(id=='주희') and (password=='1234'):\n",
    "        print('로그인 성공')\n",
    "        break\n",
    "    else:\n",
    "        print(\"로그인 실패\")"
   ]
  }
 ],
 "metadata": {
  "kernelspec": {
   "display_name": "Python 3",
   "language": "python",
   "name": "python3"
  },
  "language_info": {
   "codemirror_mode": {
    "name": "ipython",
    "version": 3
   },
   "file_extension": ".py",
   "mimetype": "text/x-python",
   "name": "python",
   "nbconvert_exporter": "python",
   "pygments_lexer": "ipython3",
   "version": "3.6.3"
  }
 },
 "nbformat": 4,
 "nbformat_minor": 2
}
