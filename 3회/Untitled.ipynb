{
 "cells": [
  {
   "cell_type": "code",
   "execution_count": 1,
   "metadata": {},
   "outputs": [
    {
     "name": "stdout",
     "output_type": "stream",
     "text": [
      "점수를 입력 하세요2\n",
      "불합격입니다\n"
     ]
    }
   ],
   "source": [
    "score=int(input(\"점수를 입력 하세요\"))\n",
    "if score>70:\n",
    "    print(\"합격입니다\")\n",
    "print(\"불합격입니다\")\n"
   ]
  },
  {
   "cell_type": "code",
   "execution_count": 16,
   "metadata": {},
   "outputs": [
    {
     "name": "stdout",
     "output_type": "stream",
     "text": [
      "정수를 입력하세요 : 4\n",
      "짝수입니다\n"
     ]
    }
   ],
   "source": [
    "num=int(input(\"정수를 입력하세요 : \"))\n",
    "if num%2==0:\n",
    "    print(\"짝수입니다\")\n",
    "else :\n",
    "    print(\"홀수입니다\")"
   ]
  },
  {
   "cell_type": "code",
   "execution_count": 21,
   "metadata": {},
   "outputs": [
    {
     "name": "stdout",
     "output_type": "stream",
     "text": [
      "정수를 입력하세요 : 69\n",
      "D입니다\n"
     ]
    }
   ],
   "source": [
    "score=int(input(\"정수를 입력하세요 : \"))\n",
    "if score>=90:\n",
    "    print(\"A입니다\")\n",
    "elif score>=80:\n",
    "    print(\"B입니다\")\n",
    "elif score>=70:\n",
    "    print(\"C입니다\")\n",
    "elif score >=60:\n",
    "    print(\"D입니다\")\n",
    "else :\n",
    "    print(\"F입니다\")"
   ]
  },
  {
   "cell_type": "code",
   "execution_count": null,
   "metadata": {
    "collapsed": true
   },
   "outputs": [],
   "source": []
  }
 ],
 "metadata": {
  "kernelspec": {
   "display_name": "Python 3",
   "language": "python",
   "name": "python3"
  },
  "language_info": {
   "codemirror_mode": {
    "name": "ipython",
    "version": 3
   },
   "file_extension": ".py",
   "mimetype": "text/x-python",
   "name": "python",
   "nbconvert_exporter": "python",
   "pygments_lexer": "ipython3",
   "version": "3.6.3"
  }
 },
 "nbformat": 4,
 "nbformat_minor": 2
}
